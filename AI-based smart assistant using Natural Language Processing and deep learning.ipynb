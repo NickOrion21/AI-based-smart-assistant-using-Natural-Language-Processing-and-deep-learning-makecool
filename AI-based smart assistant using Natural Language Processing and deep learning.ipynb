{
 "cells": [
  {
   "cell_type": "markdown",
   "metadata": {},
   "source": [
    "# Import Libraries"
   ]
  },
  {
   "cell_type": "code",
   "execution_count": 1,
   "metadata": {},
   "outputs": [
    {
     "name": "stderr",
     "output_type": "stream",
     "text": [
      "C:\\ProgramData\\Anaconda3\\envs\\chatbot_36\\lib\\site-packages\\tensorflow\\python\\framework\\dtypes.py:516: FutureWarning: Passing (type, 1) or '1type' as a synonym of type is deprecated; in a future version of numpy, it will be understood as (type, (1,)) / '(1,)type'.\n",
      "  _np_qint8 = np.dtype([(\"qint8\", np.int8, 1)])\n",
      "C:\\ProgramData\\Anaconda3\\envs\\chatbot_36\\lib\\site-packages\\tensorflow\\python\\framework\\dtypes.py:517: FutureWarning: Passing (type, 1) or '1type' as a synonym of type is deprecated; in a future version of numpy, it will be understood as (type, (1,)) / '(1,)type'.\n",
      "  _np_quint8 = np.dtype([(\"quint8\", np.uint8, 1)])\n",
      "C:\\ProgramData\\Anaconda3\\envs\\chatbot_36\\lib\\site-packages\\tensorflow\\python\\framework\\dtypes.py:518: FutureWarning: Passing (type, 1) or '1type' as a synonym of type is deprecated; in a future version of numpy, it will be understood as (type, (1,)) / '(1,)type'.\n",
      "  _np_qint16 = np.dtype([(\"qint16\", np.int16, 1)])\n",
      "C:\\ProgramData\\Anaconda3\\envs\\chatbot_36\\lib\\site-packages\\tensorflow\\python\\framework\\dtypes.py:519: FutureWarning: Passing (type, 1) or '1type' as a synonym of type is deprecated; in a future version of numpy, it will be understood as (type, (1,)) / '(1,)type'.\n",
      "  _np_quint16 = np.dtype([(\"quint16\", np.uint16, 1)])\n",
      "C:\\ProgramData\\Anaconda3\\envs\\chatbot_36\\lib\\site-packages\\tensorflow\\python\\framework\\dtypes.py:520: FutureWarning: Passing (type, 1) or '1type' as a synonym of type is deprecated; in a future version of numpy, it will be understood as (type, (1,)) / '(1,)type'.\n",
      "  _np_qint32 = np.dtype([(\"qint32\", np.int32, 1)])\n",
      "C:\\ProgramData\\Anaconda3\\envs\\chatbot_36\\lib\\site-packages\\tensorflow\\python\\framework\\dtypes.py:525: FutureWarning: Passing (type, 1) or '1type' as a synonym of type is deprecated; in a future version of numpy, it will be understood as (type, (1,)) / '(1,)type'.\n",
      "  np_resource = np.dtype([(\"resource\", np.ubyte, 1)])\n",
      "C:\\ProgramData\\Anaconda3\\envs\\chatbot_36\\lib\\site-packages\\tensorboard\\compat\\tensorflow_stub\\dtypes.py:541: FutureWarning: Passing (type, 1) or '1type' as a synonym of type is deprecated; in a future version of numpy, it will be understood as (type, (1,)) / '(1,)type'.\n",
      "  _np_qint8 = np.dtype([(\"qint8\", np.int8, 1)])\n",
      "C:\\ProgramData\\Anaconda3\\envs\\chatbot_36\\lib\\site-packages\\tensorboard\\compat\\tensorflow_stub\\dtypes.py:542: FutureWarning: Passing (type, 1) or '1type' as a synonym of type is deprecated; in a future version of numpy, it will be understood as (type, (1,)) / '(1,)type'.\n",
      "  _np_quint8 = np.dtype([(\"quint8\", np.uint8, 1)])\n",
      "C:\\ProgramData\\Anaconda3\\envs\\chatbot_36\\lib\\site-packages\\tensorboard\\compat\\tensorflow_stub\\dtypes.py:543: FutureWarning: Passing (type, 1) or '1type' as a synonym of type is deprecated; in a future version of numpy, it will be understood as (type, (1,)) / '(1,)type'.\n",
      "  _np_qint16 = np.dtype([(\"qint16\", np.int16, 1)])\n",
      "C:\\ProgramData\\Anaconda3\\envs\\chatbot_36\\lib\\site-packages\\tensorboard\\compat\\tensorflow_stub\\dtypes.py:544: FutureWarning: Passing (type, 1) or '1type' as a synonym of type is deprecated; in a future version of numpy, it will be understood as (type, (1,)) / '(1,)type'.\n",
      "  _np_quint16 = np.dtype([(\"quint16\", np.uint16, 1)])\n",
      "C:\\ProgramData\\Anaconda3\\envs\\chatbot_36\\lib\\site-packages\\tensorboard\\compat\\tensorflow_stub\\dtypes.py:545: FutureWarning: Passing (type, 1) or '1type' as a synonym of type is deprecated; in a future version of numpy, it will be understood as (type, (1,)) / '(1,)type'.\n",
      "  _np_qint32 = np.dtype([(\"qint32\", np.int32, 1)])\n",
      "C:\\ProgramData\\Anaconda3\\envs\\chatbot_36\\lib\\site-packages\\tensorboard\\compat\\tensorflow_stub\\dtypes.py:550: FutureWarning: Passing (type, 1) or '1type' as a synonym of type is deprecated; in a future version of numpy, it will be understood as (type, (1,)) / '(1,)type'.\n",
      "  np_resource = np.dtype([(\"resource\", np.ubyte, 1)])\n"
     ]
    },
    {
     "name": "stdout",
     "output_type": "stream",
     "text": [
      "curses is not supported on this machine (please install/reinstall curses for an optimal experience)\n",
      "WARNING:tensorflow:From C:\\ProgramData\\Anaconda3\\envs\\chatbot_36\\lib\\site-packages\\tflearn\\helpers\\summarizer.py:9: The name tf.summary.merge is deprecated. Please use tf.compat.v1.summary.merge instead.\n",
      "\n",
      "WARNING:tensorflow:From C:\\ProgramData\\Anaconda3\\envs\\chatbot_36\\lib\\site-packages\\tflearn\\helpers\\trainer.py:25: The name tf.summary.FileWriter is deprecated. Please use tf.compat.v1.summary.FileWriter instead.\n",
      "\n",
      "WARNING:tensorflow:From C:\\ProgramData\\Anaconda3\\envs\\chatbot_36\\lib\\site-packages\\tflearn\\collections.py:13: The name tf.GraphKeys is deprecated. Please use tf.compat.v1.GraphKeys instead.\n",
      "\n",
      "WARNING:tensorflow:From C:\\ProgramData\\Anaconda3\\envs\\chatbot_36\\lib\\site-packages\\tflearn\\config.py:123: The name tf.get_collection is deprecated. Please use tf.compat.v1.get_collection instead.\n",
      "\n",
      "WARNING:tensorflow:From C:\\ProgramData\\Anaconda3\\envs\\chatbot_36\\lib\\site-packages\\tflearn\\config.py:129: The name tf.add_to_collection is deprecated. Please use tf.compat.v1.add_to_collection instead.\n",
      "\n",
      "WARNING:tensorflow:From C:\\ProgramData\\Anaconda3\\envs\\chatbot_36\\lib\\site-packages\\tflearn\\config.py:131: The name tf.assign is deprecated. Please use tf.compat.v1.assign instead.\n",
      "\n"
     ]
    }
   ],
   "source": [
    "import nltk\n",
    "from nltk.stem.lancaster import LancasterStemmer\n",
    "stemmer = LancasterStemmer()\n",
    "\n",
    "import numpy\n",
    "import tflearn\n",
    "import tensorflow\n",
    "import random\n",
    "import json\n",
    "import pickle\n",
    "\n"
   ]
  },
  {
   "cell_type": "markdown",
   "metadata": {},
   "source": [
    "# Import Dataset"
   ]
  },
  {
   "cell_type": "code",
   "execution_count": 2,
   "metadata": {},
   "outputs": [],
   "source": [
    "with open(\"intents.json\", encoding='UTF-8') as file:\n",
    "    data = json.load(file)"
   ]
  },
  {
   "cell_type": "code",
   "execution_count": 3,
   "metadata": {},
   "outputs": [
    {
     "data": {
      "text/plain": [
       "{'intents': [{'tag': 'name',\n",
       "   'patterns': ['what is the name of the department?',\n",
       "    'what is the full form of CSE?',\n",
       "    'which department is this?'],\n",
       "   'responses': ['Computer Science & Engineering'],\n",
       "   'context_set': ''},\n",
       "  {'tag': 'programs',\n",
       "   'patterns': ['what programs does this course offer?',\n",
       "    'what are the programs this course offers?'],\n",
       "   'responses': ['BSc in CSE, MSc in CSE, M Engg in Computer Science, Ph.D. in CSE'],\n",
       "   'context_set': ''},\n",
       "  {'tag': 'MIST',\n",
       "   'patterns': ['what is the name of this institution?',\n",
       "    'what is the name of your institution?',\n",
       "    'What is the full form of MIST?'],\n",
       "   'responses': ['Military Institute of Science & Technology'],\n",
       "   'context_set': ''},\n",
       "  {'tag': 'Faculty',\n",
       "   'patterns': ['How many faculties are there in CSE department?',\n",
       "    'what is the strength of faculties of CSE department?'],\n",
       "   'responses': ['1 Head of the department, 4 Professors, 3 Associate Professors, 6 Assistant Professors and 16 Lecturers'],\n",
       "   'context_set': ''},\n",
       "  {'tag': 'Lab',\n",
       "   'patterns': ['How many laboratories are there in CSE department?',\n",
       "    'How many laboratories does CSE department have?'],\n",
       "   'responses': ['CSE department has 8 laboratories.'],\n",
       "   'context_set': ''},\n",
       "  {'tag': 'Cyber Gym',\n",
       "   'patterns': ['Is it true that CSE department will be having a cyber gym very soon?',\n",
       "    'I heard CSE department will have a cyber gym very soon.',\n",
       "    'Tell me about the cyber gym.'],\n",
       "   'responses': ['CSE department of MIST will be the first in Bangladesh to have a cyber gym by the end of 2020. It is funded by the department of ICT and will provide a platform for the students to practice cyber attack and cyber defense.'],\n",
       "   'context_set': ''},\n",
       "  {'tag': 'Library',\n",
       "   'patterns': ['Does the department of CSE have a library?',\n",
       "    'Tell me about the CSE department library.'],\n",
       "   'responses': ['The CSE department library has over 800 books and close to 300 thesis papers of ex-students.'],\n",
       "   'context_set': ''},\n",
       "  {'tag': 'Department',\n",
       "   'patterns': ['How many departments does MIST have?',\n",
       "    'what is the total number of department in MIST?'],\n",
       "   'responses': ['MIST has a total of 13 departments.'],\n",
       "   'context_set': ''},\n",
       "  {'tag': 'Commandant',\n",
       "   'patterns': ['who is the present commandant of MIST?',\n",
       "    'what is the name of the commandant of MIST?'],\n",
       "   'responses': ['The current commandant is Major General Wahid-uz-Zaman.'],\n",
       "   'context_set': ''},\n",
       "  {'tag': 'Clubs',\n",
       "   'patterns': ['How many clubs are there in MIST?',\n",
       "    'Does MIST have any club?'],\n",
       "   'responses': ['There are 12 clubs in MIST.',\n",
       "    'MIST has a total of 12 clubs.'],\n",
       "   'context_set': ''},\n",
       "  {'tag': 'public',\n",
       "   'patterns': ['is it private or public?'],\n",
       "   'responses': ['Military Institute of Science and Technology (MIST) is a public engineering institution in Mirpur Cantonment, Dhaka, Bangladesh'],\n",
       "   'context_set': ''},\n",
       "  {'tag': 'admission marks',\n",
       "   'patterns': ['what is the total mark in admission exam?',\n",
       "    'admission exam marks'],\n",
       "   'responses': ['total 200 marks', '200 marks'],\n",
       "   'context_set': ''},\n",
       "  {'tag': 'language',\n",
       "   'patterns': ['will be the question in English or Bengali?',\n",
       "    'what is the language of questions?',\n",
       "    'admission question language'],\n",
       "   'responses': ['The question will be in Bengali and it will be translated into English in the bracket.',\n",
       "    \"you don't have to worry because the Question will be both in Bengali and English\"],\n",
       "   'context_set': ''},\n",
       "  {'tag': 'marks distribution',\n",
       "   'patterns': ['what is the marks distribution in admission exam',\n",
       "    'how marks will be distributed in admission exam?'],\n",
       "   'responses': ['16 questions will be from math which will carry 80 marks, 12 questions will be from physics which will carry 60 marks, 8 questions will be from chemistry which will carry 40 marks and 4 questions will be from English which will carry 20'],\n",
       "   'context_set': ''},\n",
       "  {'tag': 'GPA',\n",
       "   'patterns': ['is there any additional marks for HSC result?',\n",
       "    'does GPA in HSC exam carry any marks for admission?'],\n",
       "   'responses': ['No additional marks will be given based on HSC results'],\n",
       "   'context_set': ''},\n",
       "  {'tag': 'calculator',\n",
       "   'patterns': ['which type of calculator is preferred',\n",
       "    'what kind of calculator should I use in the exams'],\n",
       "   'responses': ['any kind of non-programmable calculator will be allowed'],\n",
       "   'context_set': ''},\n",
       "  {'tag': 'admission pass mark',\n",
       "   'patterns': ['is there any individual pass marks for individual subjects in admission exam?',\n",
       "    'is there any pass mark for different units?'],\n",
       "   'responses': ['there is no pass mark for individual subject but you will have to achive 80 marks in unit A and 40 marks in unit B to pass'],\n",
       "   'context_set': ''},\n",
       "  {'tag': 'transportation',\n",
       "   'patterns': ['is there any bus service for students?',\n",
       "    'how can I go to mist everyday'],\n",
       "   'responses': ['there are several bus services for students which stops at several stopage. Students can go to mist in morning and at 3pm they can take the bus to reach to their home'],\n",
       "   'context_set': ''},\n",
       "  {'tag': 'seat',\n",
       "   'patterns': ['how many seat are in unit A without quota?',\n",
       "    'how many students will be admitted?'],\n",
       "   'responses': ['342 seats are in unit A without quota'],\n",
       "   'context_set': ''},\n",
       "  {'tag': 'expenses',\n",
       "   'patterns': ['how much does it cost to complete BSc in mist?',\n",
       "    'how much we have to pay?'],\n",
       "   'responses': ['If your parents are government jobholders, you will have to pay approximately 3 lacs in total; otherwise, you will have to pay 4 lacs.'],\n",
       "   'context_set': ''},\n",
       "  {'tag': 'class duration',\n",
       "   'patterns': ['what is the class duration?',\n",
       "    'when the class starts and ends?'],\n",
       "   'responses': ['In general classes start at 8:00 hours and end at 14:40 hours. But mostly class duration depends on the routine. There may be class or lab after 14:40 hours which is quite rare.'],\n",
       "   'context_set': ''},\n",
       "  {'tag': 'hall seat',\n",
       "   'patterns': ['Is there any hall available for students?',\n",
       "    'Is hall seat available?'],\n",
       "   'responses': ['Mist has Osmany Hall which is divided into two part : male wing and female wing. Besides if the student number exceeds the number of seat in Osmany hall, Mist authority manages extension hall in Mirpur DOHS. So hall seat is always available but sometimes it can take some time to get a seat.'],\n",
       "   'context_set': ''},\n",
       "  {'tag': 'hall expenses',\n",
       "   'patterns': ['How about the hall expenses?',\n",
       "    'What is the monthly fee of the hall expenses?'],\n",
       "   'responses': ['Students have to pay Tk.2700 per month for hall fee. Dining bill is separated and students have to pay for their meal if they sign for meal.'],\n",
       "   'context_set': ''},\n",
       "  {'tag': 'food quality',\n",
       "   'patterns': ['how about the food quality in canteen?',\n",
       "    'how about the food quality in hall?'],\n",
       "   'responses': ['Mist authority always cares about the quality of food in both canteen and hall.'],\n",
       "   'context_set': ''},\n",
       "  {'tag': 'graduation duration',\n",
       "   'patterns': ['how much time does it take to gradute from Mist?'],\n",
       "   'responses': ['As Mist strictly follows the academic calendar, it takes at most 4 years to gradute except architecture engineering. But it can take a bit longer if someone fails to complete all courses.'],\n",
       "   'context_set': ''},\n",
       "  {'tag': 'uniform',\n",
       "   'patterns': ['Do mist students have to wear uniform?',\n",
       "    'is uniform compulsory in Mist? '],\n",
       "   'responses': ['Students have to wear uniform from sunday to wednesday. They can wear civil dresses on thursday.'],\n",
       "   'context_set': ''},\n",
       "  {'tag': 'second time',\n",
       "   'patterns': ['Can anyone give admission test for second time?'],\n",
       "   'responses': ['Second timer students can apply for MIST'],\n",
       "   'context_set': ''},\n",
       "  {'tag': 'sports',\n",
       "   'patterns': ['is there any field for students to play?',\n",
       "    'can students play football or cricket in playground?',\n",
       "    'outdoor games'],\n",
       "   'responses': ['there is a field for students where they can play. Besides each year several tournaments are arranged by the MIST authority.'],\n",
       "   'context_set': ''},\n",
       "  {'tag': 'reasons to admit',\n",
       "   'patterns': ['why should I choose MIST?',\n",
       "    'why should I get admitted in MIST?'],\n",
       "   'responses': ['If anyone wants to get himself or herself admitted into an engineering university then MIST is the only government engineering university in Dhaka after BUET. MIST authority tries to complete each session in time so students can gradute within 4 years. Besides there is no politics in MIST, campus environment is very friendly, as it is run by military so it is safe for girls and there is no ragging, rules are strictly maintained here which prevents unwanted issues and students will experience a corporate like life.'],\n",
       "   'context_set': ''},\n",
       "  {'tag': 'stipend',\n",
       "   'patterns': ['does MIST provide any stipend?',\n",
       "    'is there any scholarship for students?'],\n",
       "   'responses': ['MIST provides both scholarships and stipend for financially weak students. '],\n",
       "   'context_set': ''},\n",
       "  {'tag': 'MIST_Bangla',\n",
       "   'patterns': ['এই প্রতিষ্ঠানের নাম কি?', 'এই ইনস্টিটিউটের নাম কি?'],\n",
       "   'responses': ['মিলিটারি ইনস্টিটিউট অফ সায়েন্স অ্যান্ড টেকনোলজি'],\n",
       "   'context_set': ''},\n",
       "  {'tag': 'reasons to admit bangla',\n",
       "   'patterns': ['কেন আমি এমআইএসটি বেছে নেব?', 'কেন আমি এমআইএসটিতে ভর্তি হব?'],\n",
       "   'responses': ['যদি কেউ নিজেকে বা নিজেকে একটি ইঞ্জিনিয়ারিং বিশ্ববিদ্যালয়ে ভর্তি করতে চান তবে বুয়েটের পরে এমআইএসটি ঢাকার একমাত্র সরকারী প্রকৌশল বিশ্ববিদ্যালয়। এমআইএসটি কর্তৃপক্ষ প্রতিটি অধিবেশন সময়মতো সম্পন্ন করার চেষ্টা করে যাতে শিক্ষার্থীরা 4 বছরের মধ্যে গ্রেড করতে পারে। এমআইএসটিতে কোনও রাজনীতি নেই, ক্যাম্পাসের পরিবেশটি অত্যন্ত বন্ধুত্বপূর্ণ, এটি সামরিক বাহিনী দ্বারা পরিচালিত তাই এটি মেয়েদের জন্য নিরাপদ এবং কোনও র\\u200c্যাগিং নেই, নিয়ম এখানে কঠোরভাবে বজায় রাখা হয়েছে যা অবাঞ্ছিত বিষয়গুলি রোধ করে এবং শিক্ষার্থীরা জীবনের মতো কর্পোরেট অভিজ্ঞতা অর্জন করবে।'],\n",
       "   'context_set': ''},\n",
       "  {'tag': 'second time bangla',\n",
       "   'patterns': ['দ্বিতীয়বারের মতো কেউ ভর্তি পরীক্ষা দিতে পারবে?'],\n",
       "   'responses': ['দ্বিতীয় টাইমার শিক্ষার্থীরা এমআইএসটির জন্য আবেদন করতে পারবেন'],\n",
       "   'context_set': ''},\n",
       "  {'tag': 'graduation duration bangla',\n",
       "   'patterns': ['এমআইএসটি থেকে স্নাতক হতে কত সময় লাগে?'],\n",
       "   'responses': ['যেহেতু মিস্ট কঠোরভাবে একাডেমিক ক্যালেন্ডার অনুসরণ করে, আর্কিটেকচার ইঞ্জিনিয়ারিং ছাড়া স্নাতক হতে প্রায় চার বছর সময় নেয়।  তবে কেউ যদি সমস্ত কোর্স শেষ করতে ব্যর্থ হয় তবে এটি আরও কিছুটা সময় নিতে পারে।'],\n",
       "   'context_set': ''},\n",
       "  {'tag': 'hall expenses bangla',\n",
       "   'patterns': ['হলের ব্যয় কেমন?', 'হল ব্যয়ের মাসিক ফি কত?'],\n",
       "   'responses': ['শিক্ষার্থীদের হল ফি বাবদ প্রতি মাসে 2700 টাকা দিতে হয়। ডাইনিং বিল পৃথক করা হয় এবং শিক্ষার্থীরা যদি তারা খাবারের জন্য স্বাক্ষর করে তবে তাদের খাওয়ার জন্য অর্থ প্রদান করতে হবে।'],\n",
       "   'context_set': ''},\n",
       "  {'tag': 'Department bangla',\n",
       "   'patterns': ['এমআইএসটির কতটি বিভাগ রয়েছে?',\n",
       "    'এমআইএসটিতে মোট বিভাগের সংখ্যা কত?'],\n",
       "   'responses': ['এমআইএসটি-তে মোট ১৩ টি বিভাগ রয়েছে।'],\n",
       "   'context_set': ''},\n",
       "  {'tag': 'Faculty bangla',\n",
       "   'patterns': ['সিএসই বিভাগে কতটি অনুষদ রয়েছে?'],\n",
       "   'responses': ['১ জন বিভাগের প্রধান, ৪ জন অধ্যাপক, ৩ জন সহযোগী অধ্যাপক, ৬ জন সহকারী অধ্যাপক এবং ১৬ জন প্রভাষক'],\n",
       "   'context_set': ''},\n",
       "  {'tag': 'food quality bangla',\n",
       "   'patterns': ['ক্যান্টিনে খাবারের মান কেমন?', 'হলের খাবারের মান কেমন?'],\n",
       "   'responses': ['এমআইএসটি কর্তৃপক্ষ সবসময় ক্যান্টিন এবং হল উভয় খাবারের মানের সম্পর্কে যত্নশীল।'],\n",
       "   'context_set': ''},\n",
       "  {'tag': 'hall seat bnagla',\n",
       "   'patterns': ['শিক্ষার্থীদের জন্য কি কোনও হল রয়েছে?',\n",
       "    'হল সিট পাওয়া যায়?'],\n",
       "   'responses': ['এমআইএসটির ওসমানী হল রয়েছে যা দুটি ভাগে বিভক্ত: পুরুষ উইং এবং মহিলা উইং। ছাত্র সংখ্যা ওসমানী হলে আসনের সংখ্যা ছাড়িয়ে গেলেও মিস্ট কর্তৃপক্ষ মিরপুর ডিওএইচএসের এক্সটেনশন হল পরিচালনা করে। তবে কখনও কখনও এটি আসন পেতে কিছুটা সময় নিতে পারে।'],\n",
       "   'context_set': ''},\n",
       "  {'tag': 'public bangla',\n",
       "   'patterns': ['এটা কি বেসরকারী না সরকারী?'],\n",
       "   'responses': ['মিলিটারি ইনস্টিটিউট অফ সায়েন্স অ্যান্ড টেকনোলজি (এমআইএসটি) বাংলাদেশের মিরপুর সেনানিবাসের একটি পাবলিক ইঞ্জিনিয়ারিং প্রতিষ্ঠান '],\n",
       "   'context_set': ''}]}"
      ]
     },
     "execution_count": 3,
     "metadata": {},
     "output_type": "execute_result"
    }
   ],
   "source": [
    "data"
   ]
  },
  {
   "cell_type": "markdown",
   "metadata": {},
   "source": [
    "# Data Preprocessing "
   ]
  },
  {
   "cell_type": "code",
   "execution_count": 4,
   "metadata": {},
   "outputs": [],
   "source": [
    "words = []\n",
    "labels = []\n",
    "docs_x = []\n",
    "docs_y = []\n",
    "\n",
    "for intent in data[\"intents\"]:\n",
    "    for pattern in intent[\"patterns\"]:\n",
    "        wrds = nltk.word_tokenize(pattern)\n",
    "        words.extend(wrds)\n",
    "        docs_x.append(wrds)\n",
    "        docs_y.append(intent[\"tag\"])\n",
    "\n",
    "    if intent[\"tag\"] not in labels:\n",
    "        labels.append(intent[\"tag\"])\n",
    "\n",
    "words = [stemmer.stem(w.lower()) for w in words if w != \"?\"]\n",
    "words = sorted(list(set(words)))"
   ]
  },
  {
   "cell_type": "code",
   "execution_count": 5,
   "metadata": {},
   "outputs": [
    {
     "data": {
      "text/plain": [
       "189"
      ]
     },
     "execution_count": 5,
     "metadata": {},
     "output_type": "execute_result"
    }
   ],
   "source": [
    "len(words)"
   ]
  },
  {
   "cell_type": "code",
   "execution_count": 7,
   "metadata": {},
   "outputs": [
    {
     "data": {
      "text/plain": [
       "['.',\n",
       " 'a',\n",
       " 'about',\n",
       " 'addit',\n",
       " 'admit',\n",
       " 'and',\n",
       " 'any',\n",
       " 'anyon',\n",
       " 'ar',\n",
       " 'avail',\n",
       " 'be',\n",
       " 'bengal',\n",
       " 'bsc',\n",
       " 'bus',\n",
       " 'calc',\n",
       " 'can',\n",
       " 'canteen',\n",
       " 'carry',\n",
       " 'choos',\n",
       " 'class',\n",
       " 'club',\n",
       " 'command',\n",
       " 'complet',\n",
       " 'compuls',\n",
       " 'cost',\n",
       " 'cours',\n",
       " 'cricket',\n",
       " 'cse',\n",
       " 'cyb',\n",
       " 'depart',\n",
       " 'diff',\n",
       " 'distribut',\n",
       " 'do',\n",
       " 'doe',\n",
       " 'dur',\n",
       " 'end',\n",
       " 'engl',\n",
       " 'everyday',\n",
       " 'exam',\n",
       " 'expens',\n",
       " 'facul',\n",
       " 'fee',\n",
       " 'field',\n",
       " 'food',\n",
       " 'footbal',\n",
       " 'for',\n",
       " 'form',\n",
       " 'from',\n",
       " 'ful',\n",
       " 'gam',\n",
       " 'get',\n",
       " 'giv',\n",
       " 'go',\n",
       " 'gpa',\n",
       " 'gradut',\n",
       " 'gym',\n",
       " 'hal',\n",
       " 'hav',\n",
       " 'heard',\n",
       " 'how',\n",
       " 'hsc',\n",
       " 'i',\n",
       " 'in',\n",
       " 'individ',\n",
       " 'institut',\n",
       " 'is',\n",
       " 'it',\n",
       " 'kind',\n",
       " 'lab',\n",
       " 'langu',\n",
       " 'libr',\n",
       " 'many',\n",
       " 'mark',\n",
       " 'me',\n",
       " 'mist',\n",
       " 'month',\n",
       " 'much',\n",
       " 'nam',\n",
       " 'numb',\n",
       " 'of',\n",
       " 'off',\n",
       " 'or',\n",
       " 'outdo',\n",
       " 'pass',\n",
       " 'pay',\n",
       " 'play',\n",
       " 'playground',\n",
       " 'prefer',\n",
       " 'pres',\n",
       " 'priv',\n",
       " 'program',\n",
       " 'provid',\n",
       " 'publ',\n",
       " 'qual',\n",
       " 'quest',\n",
       " 'quot',\n",
       " 'result',\n",
       " 'scholarship',\n",
       " 'seat',\n",
       " 'second',\n",
       " 'serv',\n",
       " 'should',\n",
       " 'soon',\n",
       " 'start',\n",
       " 'stipend',\n",
       " 'strength',\n",
       " 'stud',\n",
       " 'subject',\n",
       " 'tak',\n",
       " 'tel',\n",
       " 'test',\n",
       " 'that',\n",
       " 'the',\n",
       " 'ther',\n",
       " 'thi',\n",
       " 'tim',\n",
       " 'to',\n",
       " 'tot',\n",
       " 'tru',\n",
       " 'typ',\n",
       " 'uniform',\n",
       " 'unit',\n",
       " 'us',\n",
       " 'very',\n",
       " 'we',\n",
       " 'wear',\n",
       " 'what',\n",
       " 'when',\n",
       " 'which',\n",
       " 'who',\n",
       " 'why',\n",
       " 'wil',\n",
       " 'without',\n",
       " 'yo',\n",
       " 'অনুষদ',\n",
       " 'আমি',\n",
       " 'ইনস্টিটিউটের',\n",
       " 'এই',\n",
       " 'এটা',\n",
       " 'এমআইএসটি',\n",
       " 'এমআইএসটিতে',\n",
       " 'এমআইএসটির',\n",
       " 'কত',\n",
       " 'কতটি',\n",
       " 'কি',\n",
       " 'কেউ',\n",
       " 'কেন',\n",
       " 'কেমন',\n",
       " 'কোনও',\n",
       " 'ক্যান্টিনে',\n",
       " 'খাবারের',\n",
       " 'জন্য',\n",
       " 'থেকে',\n",
       " 'দিতে',\n",
       " 'দ্বিতীয়বারের',\n",
       " 'না',\n",
       " 'নাম',\n",
       " 'নেব',\n",
       " 'পরীক্ষা',\n",
       " 'পাওয়া',\n",
       " 'পারবে',\n",
       " 'প্রতিষ্ঠানের',\n",
       " 'ফি',\n",
       " 'বিভাগ',\n",
       " 'বিভাগে',\n",
       " 'বিভাগের',\n",
       " 'বেছে',\n",
       " 'বেসরকারী',\n",
       " 'ব্যয়',\n",
       " 'ব্যয়ের',\n",
       " 'ভর্তি',\n",
       " 'মতো',\n",
       " 'মান',\n",
       " 'মাসিক',\n",
       " 'মোট',\n",
       " 'যায়',\n",
       " 'রয়েছে',\n",
       " 'লাগে',\n",
       " 'শিক্ষার্থীদের',\n",
       " 'সংখ্যা',\n",
       " 'সময়',\n",
       " 'সরকারী',\n",
       " 'সিএসই',\n",
       " 'সিট',\n",
       " 'স্নাতক',\n",
       " 'হতে',\n",
       " 'হব',\n",
       " 'হল',\n",
       " 'হলের']"
      ]
     },
     "execution_count": 7,
     "metadata": {},
     "output_type": "execute_result"
    }
   ],
   "source": [
    "words"
   ]
  },
  {
   "cell_type": "code",
   "execution_count": 8,
   "metadata": {},
   "outputs": [
    {
     "data": {
      "text/plain": [
       "40"
      ]
     },
     "execution_count": 8,
     "metadata": {},
     "output_type": "execute_result"
    }
   ],
   "source": [
    "len(labels)"
   ]
  },
  {
   "cell_type": "code",
   "execution_count": 9,
   "metadata": {},
   "outputs": [
    {
     "data": {
      "text/plain": [
       "['Clubs',\n",
       " 'Commandant',\n",
       " 'Cyber Gym',\n",
       " 'Department',\n",
       " 'Department bangla',\n",
       " 'Faculty',\n",
       " 'Faculty bangla',\n",
       " 'GPA',\n",
       " 'Lab',\n",
       " 'Library',\n",
       " 'MIST',\n",
       " 'MIST_Bangla',\n",
       " 'admission marks',\n",
       " 'admission pass mark',\n",
       " 'calculator',\n",
       " 'class duration',\n",
       " 'expenses',\n",
       " 'food quality',\n",
       " 'food quality bangla',\n",
       " 'graduation duration',\n",
       " 'graduation duration bangla',\n",
       " 'hall expenses',\n",
       " 'hall expenses bangla',\n",
       " 'hall seat',\n",
       " 'hall seat bnagla',\n",
       " 'language',\n",
       " 'marks distribution',\n",
       " 'name',\n",
       " 'programs',\n",
       " 'public',\n",
       " 'public bangla',\n",
       " 'reasons to admit',\n",
       " 'reasons to admit bangla',\n",
       " 'seat',\n",
       " 'second time',\n",
       " 'second time bangla',\n",
       " 'sports',\n",
       " 'stipend',\n",
       " 'transportation',\n",
       " 'uniform']"
      ]
     },
     "execution_count": 9,
     "metadata": {},
     "output_type": "execute_result"
    }
   ],
   "source": [
    "sorted(labels)"
   ]
  },
  {
   "cell_type": "code",
   "execution_count": 10,
   "metadata": {},
   "outputs": [
    {
     "data": {
      "text/plain": [
       "[['what', 'is', 'the', 'name', 'of', 'the', 'department', '?'],\n",
       " ['what', 'is', 'the', 'full', 'form', 'of', 'CSE', '?'],\n",
       " ['which', 'department', 'is', 'this', '?'],\n",
       " ['what', 'programs', 'does', 'this', 'course', 'offer', '?'],\n",
       " ['what', 'are', 'the', 'programs', 'this', 'course', 'offers', '?'],\n",
       " ['what', 'is', 'the', 'name', 'of', 'this', 'institution', '?'],\n",
       " ['what', 'is', 'the', 'name', 'of', 'your', 'institution', '?'],\n",
       " ['What', 'is', 'the', 'full', 'form', 'of', 'MIST', '?'],\n",
       " ['How', 'many', 'faculties', 'are', 'there', 'in', 'CSE', 'department', '?'],\n",
       " ['what',\n",
       "  'is',\n",
       "  'the',\n",
       "  'strength',\n",
       "  'of',\n",
       "  'faculties',\n",
       "  'of',\n",
       "  'CSE',\n",
       "  'department',\n",
       "  '?'],\n",
       " ['How',\n",
       "  'many',\n",
       "  'laboratories',\n",
       "  'are',\n",
       "  'there',\n",
       "  'in',\n",
       "  'CSE',\n",
       "  'department',\n",
       "  '?'],\n",
       " ['How', 'many', 'laboratories', 'does', 'CSE', 'department', 'have', '?'],\n",
       " ['Is',\n",
       "  'it',\n",
       "  'true',\n",
       "  'that',\n",
       "  'CSE',\n",
       "  'department',\n",
       "  'will',\n",
       "  'be',\n",
       "  'having',\n",
       "  'a',\n",
       "  'cyber',\n",
       "  'gym',\n",
       "  'very',\n",
       "  'soon',\n",
       "  '?'],\n",
       " ['I',\n",
       "  'heard',\n",
       "  'CSE',\n",
       "  'department',\n",
       "  'will',\n",
       "  'have',\n",
       "  'a',\n",
       "  'cyber',\n",
       "  'gym',\n",
       "  'very',\n",
       "  'soon',\n",
       "  '.'],\n",
       " ['Tell', 'me', 'about', 'the', 'cyber', 'gym', '.'],\n",
       " ['Does', 'the', 'department', 'of', 'CSE', 'have', 'a', 'library', '?'],\n",
       " ['Tell', 'me', 'about', 'the', 'CSE', 'department', 'library', '.'],\n",
       " ['How', 'many', 'departments', 'does', 'MIST', 'have', '?'],\n",
       " ['what',\n",
       "  'is',\n",
       "  'the',\n",
       "  'total',\n",
       "  'number',\n",
       "  'of',\n",
       "  'department',\n",
       "  'in',\n",
       "  'MIST',\n",
       "  '?'],\n",
       " ['who', 'is', 'the', 'present', 'commandant', 'of', 'MIST', '?'],\n",
       " ['what', 'is', 'the', 'name', 'of', 'the', 'commandant', 'of', 'MIST', '?'],\n",
       " ['How', 'many', 'clubs', 'are', 'there', 'in', 'MIST', '?'],\n",
       " ['Does', 'MIST', 'have', 'any', 'club', '?'],\n",
       " ['is', 'it', 'private', 'or', 'public', '?'],\n",
       " ['what', 'is', 'the', 'total', 'mark', 'in', 'admission', 'exam', '?'],\n",
       " ['admission', 'exam', 'marks'],\n",
       " ['will', 'be', 'the', 'question', 'in', 'English', 'or', 'Bengali', '?'],\n",
       " ['what', 'is', 'the', 'language', 'of', 'questions', '?'],\n",
       " ['admission', 'question', 'language'],\n",
       " ['what', 'is', 'the', 'marks', 'distribution', 'in', 'admission', 'exam'],\n",
       " ['how', 'marks', 'will', 'be', 'distributed', 'in', 'admission', 'exam', '?'],\n",
       " ['is', 'there', 'any', 'additional', 'marks', 'for', 'HSC', 'result', '?'],\n",
       " ['does',\n",
       "  'GPA',\n",
       "  'in',\n",
       "  'HSC',\n",
       "  'exam',\n",
       "  'carry',\n",
       "  'any',\n",
       "  'marks',\n",
       "  'for',\n",
       "  'admission',\n",
       "  '?'],\n",
       " ['which', 'type', 'of', 'calculator', 'is', 'preferred'],\n",
       " ['what',\n",
       "  'kind',\n",
       "  'of',\n",
       "  'calculator',\n",
       "  'should',\n",
       "  'I',\n",
       "  'use',\n",
       "  'in',\n",
       "  'the',\n",
       "  'exams'],\n",
       " ['is',\n",
       "  'there',\n",
       "  'any',\n",
       "  'individual',\n",
       "  'pass',\n",
       "  'marks',\n",
       "  'for',\n",
       "  'individual',\n",
       "  'subjects',\n",
       "  'in',\n",
       "  'admission',\n",
       "  'exam',\n",
       "  '?'],\n",
       " ['is', 'there', 'any', 'pass', 'mark', 'for', 'different', 'units', '?'],\n",
       " ['is', 'there', 'any', 'bus', 'service', 'for', 'students', '?'],\n",
       " ['how', 'can', 'I', 'go', 'to', 'mist', 'everyday'],\n",
       " ['how', 'many', 'seat', 'are', 'in', 'unit', 'A', 'without', 'quota', '?'],\n",
       " ['how', 'many', 'students', 'will', 'be', 'admitted', '?'],\n",
       " ['how',\n",
       "  'much',\n",
       "  'does',\n",
       "  'it',\n",
       "  'cost',\n",
       "  'to',\n",
       "  'complete',\n",
       "  'BSc',\n",
       "  'in',\n",
       "  'mist',\n",
       "  '?'],\n",
       " ['how', 'much', 'we', 'have', 'to', 'pay', '?'],\n",
       " ['what', 'is', 'the', 'class', 'duration', '?'],\n",
       " ['when', 'the', 'class', 'starts', 'and', 'ends', '?'],\n",
       " ['Is', 'there', 'any', 'hall', 'available', 'for', 'students', '?'],\n",
       " ['Is', 'hall', 'seat', 'available', '?'],\n",
       " ['How', 'about', 'the', 'hall', 'expenses', '?'],\n",
       " ['What', 'is', 'the', 'monthly', 'fee', 'of', 'the', 'hall', 'expenses', '?'],\n",
       " ['how', 'about', 'the', 'food', 'quality', 'in', 'canteen', '?'],\n",
       " ['how', 'about', 'the', 'food', 'quality', 'in', 'hall', '?'],\n",
       " ['how',\n",
       "  'much',\n",
       "  'time',\n",
       "  'does',\n",
       "  'it',\n",
       "  'take',\n",
       "  'to',\n",
       "  'gradute',\n",
       "  'from',\n",
       "  'Mist',\n",
       "  '?'],\n",
       " ['Do', 'mist', 'students', 'have', 'to', 'wear', 'uniform', '?'],\n",
       " ['is', 'uniform', 'compulsory', 'in', 'Mist', '?'],\n",
       " ['Can', 'anyone', 'give', 'admission', 'test', 'for', 'second', 'time', '?'],\n",
       " ['is', 'there', 'any', 'field', 'for', 'students', 'to', 'play', '?'],\n",
       " ['can',\n",
       "  'students',\n",
       "  'play',\n",
       "  'football',\n",
       "  'or',\n",
       "  'cricket',\n",
       "  'in',\n",
       "  'playground',\n",
       "  '?'],\n",
       " ['outdoor', 'games'],\n",
       " ['why', 'should', 'I', 'choose', 'MIST', '?'],\n",
       " ['why', 'should', 'I', 'get', 'admitted', 'in', 'MIST', '?'],\n",
       " ['does', 'MIST', 'provide', 'any', 'stipend', '?'],\n",
       " ['is', 'there', 'any', 'scholarship', 'for', 'students', '?'],\n",
       " ['এই', 'প্রতিষ্ঠানের', 'নাম', 'কি', '?'],\n",
       " ['এই', 'ইনস্টিটিউটের', 'নাম', 'কি', '?'],\n",
       " ['কেন', 'আমি', 'এমআইএসটি', 'বেছে', 'নেব', '?'],\n",
       " ['কেন', 'আমি', 'এমআইএসটিতে', 'ভর্তি', 'হব', '?'],\n",
       " ['দ্বিতীয়বারের', 'মতো', 'কেউ', 'ভর্তি', 'পরীক্ষা', 'দিতে', 'পারবে', '?'],\n",
       " ['এমআইএসটি', 'থেকে', 'স্নাতক', 'হতে', 'কত', 'সময়', 'লাগে', '?'],\n",
       " ['হলের', 'ব্যয়', 'কেমন', '?'],\n",
       " ['হল', 'ব্যয়ের', 'মাসিক', 'ফি', 'কত', '?'],\n",
       " ['এমআইএসটির', 'কতটি', 'বিভাগ', 'রয়েছে', '?'],\n",
       " ['এমআইএসটিতে', 'মোট', 'বিভাগের', 'সংখ্যা', 'কত', '?'],\n",
       " ['সিএসই', 'বিভাগে', 'কতটি', 'অনুষদ', 'রয়েছে', '?'],\n",
       " ['ক্যান্টিনে', 'খাবারের', 'মান', 'কেমন', '?'],\n",
       " ['হলের', 'খাবারের', 'মান', 'কেমন', '?'],\n",
       " ['শিক্ষার্থীদের', 'জন্য', 'কি', 'কোনও', 'হল', 'রয়েছে', '?'],\n",
       " ['হল', 'সিট', 'পাওয়া', 'যায়', '?'],\n",
       " ['এটা', 'কি', 'বেসরকারী', 'না', 'সরকারী', '?']]"
      ]
     },
     "execution_count": 10,
     "metadata": {},
     "output_type": "execute_result"
    }
   ],
   "source": [
    "docs_x"
   ]
  },
  {
   "cell_type": "code",
   "execution_count": 37,
   "metadata": {},
   "outputs": [],
   "source": [
    "wrds = [stemmer.stem(w.lower()) for w in docs_x[17] if w != \"?\"]\n"
   ]
  },
  {
   "cell_type": "code",
   "execution_count": 38,
   "metadata": {},
   "outputs": [
    {
     "data": {
      "text/plain": [
       "['how', 'many', 'depart', 'doe', 'mist', 'hav']"
      ]
     },
     "execution_count": 38,
     "metadata": {},
     "output_type": "execute_result"
    }
   ],
   "source": [
    "wrds"
   ]
  },
  {
   "cell_type": "code",
   "execution_count": 13,
   "metadata": {},
   "outputs": [
    {
     "data": {
      "text/plain": [
       "['name',\n",
       " 'name',\n",
       " 'name',\n",
       " 'programs',\n",
       " 'programs',\n",
       " 'MIST',\n",
       " 'MIST',\n",
       " 'MIST',\n",
       " 'Faculty',\n",
       " 'Faculty',\n",
       " 'Lab',\n",
       " 'Lab',\n",
       " 'Cyber Gym',\n",
       " 'Cyber Gym',\n",
       " 'Cyber Gym',\n",
       " 'Library',\n",
       " 'Library',\n",
       " 'Department',\n",
       " 'Department',\n",
       " 'Commandant',\n",
       " 'Commandant',\n",
       " 'Clubs',\n",
       " 'Clubs',\n",
       " 'public',\n",
       " 'admission marks',\n",
       " 'admission marks',\n",
       " 'language',\n",
       " 'language',\n",
       " 'language',\n",
       " 'marks distribution',\n",
       " 'marks distribution',\n",
       " 'GPA',\n",
       " 'GPA',\n",
       " 'calculator',\n",
       " 'calculator',\n",
       " 'admission pass mark',\n",
       " 'admission pass mark',\n",
       " 'transportation',\n",
       " 'transportation',\n",
       " 'seat',\n",
       " 'seat',\n",
       " 'expenses',\n",
       " 'expenses',\n",
       " 'class duration',\n",
       " 'class duration',\n",
       " 'hall seat',\n",
       " 'hall seat',\n",
       " 'hall expenses',\n",
       " 'hall expenses',\n",
       " 'food quality',\n",
       " 'food quality',\n",
       " 'graduation duration',\n",
       " 'uniform',\n",
       " 'uniform',\n",
       " 'second time',\n",
       " 'sports',\n",
       " 'sports',\n",
       " 'sports',\n",
       " 'reasons to admit',\n",
       " 'reasons to admit',\n",
       " 'stipend',\n",
       " 'stipend',\n",
       " 'MIST_Bangla',\n",
       " 'MIST_Bangla',\n",
       " 'reasons to admit bangla',\n",
       " 'reasons to admit bangla',\n",
       " 'second time bangla',\n",
       " 'graduation duration bangla',\n",
       " 'hall expenses bangla',\n",
       " 'hall expenses bangla',\n",
       " 'Department bangla',\n",
       " 'Department bangla',\n",
       " 'Faculty bangla',\n",
       " 'food quality bangla',\n",
       " 'food quality bangla',\n",
       " 'hall seat bnagla',\n",
       " 'hall seat bnagla',\n",
       " 'public bangla']"
      ]
     },
     "execution_count": 13,
     "metadata": {},
     "output_type": "execute_result"
    }
   ],
   "source": [
    "docs_y"
   ]
  },
  {
   "cell_type": "code",
   "execution_count": 11,
   "metadata": {},
   "outputs": [],
   "source": [
    "labels = sorted(labels)\n",
    "\n",
    "training = []\n",
    "output = []\n",
    "\n",
    "out_empty = [0 for _ in range(len(labels))]\n",
    "\n",
    "for x, doc in enumerate(docs_x):\n",
    "    bag = []\n",
    "\n",
    "    wrds = [stemmer.stem(w.lower()) for w in doc]\n",
    "\n",
    "    for w in words:\n",
    "        if w in wrds:\n",
    "            bag.append(1)\n",
    "        else:\n",
    "            bag.append(0)\n",
    "\n",
    "    output_row = out_empty[:]\n",
    "    output_row[labels.index(docs_y[x])] = 1\n",
    "\n",
    "    training.append(bag)\n",
    "    output.append(output_row)\n",
    "\n",
    "\n",
    "training = numpy.array(training)\n",
    "output = numpy.array(output)\n"
   ]
  },
  {
   "cell_type": "code",
   "execution_count": 15,
   "metadata": {},
   "outputs": [
    {
     "data": {
      "text/plain": [
       "array([0, 0, 0, 0, 0, 0, 0, 0, 1, 0, 0, 0, 0, 0, 0, 0, 0, 0, 0, 0, 0, 0,\n",
       "       0, 0, 0, 0, 0, 1, 0, 1, 0, 0, 0, 0, 0, 0, 0, 0, 0, 0, 1, 0, 0, 0,\n",
       "       0, 0, 0, 0, 0, 0, 0, 0, 0, 0, 0, 0, 0, 0, 0, 1, 0, 0, 1, 0, 0, 0,\n",
       "       0, 0, 0, 0, 0, 1, 0, 0, 0, 0, 0, 0, 0, 0, 0, 0, 0, 0, 0, 0, 0, 0,\n",
       "       0, 0, 0, 0, 0, 0, 0, 0, 0, 0, 0, 0, 0, 0, 0, 0, 0, 0, 0, 0, 0, 0,\n",
       "       0, 0, 0, 1, 0, 0, 0, 0, 0, 0, 0, 0, 0, 0, 0, 0, 0, 0, 0, 0, 0, 0,\n",
       "       0, 0, 0, 0, 0, 0, 0, 0, 0, 0, 0, 0, 0, 0, 0, 0, 0, 0, 0, 0, 0, 0,\n",
       "       0, 0, 0, 0, 0, 0, 0, 0, 0, 0, 0, 0, 0, 0, 0, 0, 0, 0, 0, 0, 0, 0,\n",
       "       0, 0, 0, 0, 0, 0, 0, 0, 0, 0, 0, 0, 0])"
      ]
     },
     "execution_count": 15,
     "metadata": {},
     "output_type": "execute_result"
    }
   ],
   "source": [
    "training[8]"
   ]
  },
  {
   "cell_type": "code",
   "execution_count": 16,
   "metadata": {},
   "outputs": [
    {
     "data": {
      "text/plain": [
       "189"
      ]
     },
     "execution_count": 16,
     "metadata": {},
     "output_type": "execute_result"
    }
   ],
   "source": [
    "len(training[1])"
   ]
  },
  {
   "cell_type": "code",
   "execution_count": 17,
   "metadata": {},
   "outputs": [
    {
     "data": {
      "text/plain": [
       "array([0, 0, 0, 0, 0, 1, 0, 0, 0, 0, 0, 0, 0, 0, 0, 0, 0, 0, 0, 0, 0, 0,\n",
       "       0, 0, 0, 0, 0, 0, 0, 0, 0, 0, 0, 0, 0, 0, 0, 0, 0, 0])"
      ]
     },
     "execution_count": 17,
     "metadata": {},
     "output_type": "execute_result"
    }
   ],
   "source": [
    "output[8]"
   ]
  },
  {
   "cell_type": "code",
   "execution_count": 22,
   "metadata": {},
   "outputs": [],
   "source": [
    "with open(\"data.pickle\", \"wb\") as f:\n",
    "    pickle.dump((words, labels, training, output), f)"
   ]
  },
  {
   "cell_type": "code",
   "execution_count": 23,
   "metadata": {},
   "outputs": [
    {
     "data": {
      "text/plain": [
       "'depart'"
      ]
     },
     "execution_count": 23,
     "metadata": {},
     "output_type": "execute_result"
    }
   ],
   "source": [
    "words[29]"
   ]
  },
  {
   "cell_type": "code",
   "execution_count": 24,
   "metadata": {},
   "outputs": [
    {
     "data": {
      "text/plain": [
       "array([0, 0, 0, 0, 0, 0, 0, 0, 0, 0, 0, 0, 0, 0, 0, 0, 0, 0, 0, 0, 0, 0,\n",
       "       0, 0, 0, 0, 0, 1, 0, 0, 0, 0, 0, 0, 0, 0, 0, 0, 0, 0])"
      ]
     },
     "execution_count": 24,
     "metadata": {},
     "output_type": "execute_result"
    }
   ],
   "source": [
    "output[0]"
   ]
  },
  {
   "cell_type": "code",
   "execution_count": 34,
   "metadata": {},
   "outputs": [
    {
     "data": {
      "text/plain": [
       "(78, 189)"
      ]
     },
     "execution_count": 34,
     "metadata": {},
     "output_type": "execute_result"
    }
   ],
   "source": [
    "training.shape"
   ]
  },
  {
   "cell_type": "code",
   "execution_count": 35,
   "metadata": {},
   "outputs": [
    {
     "data": {
      "text/plain": [
       "(78, 40)"
      ]
     },
     "execution_count": 35,
     "metadata": {},
     "output_type": "execute_result"
    }
   ],
   "source": [
    "output.shape"
   ]
  },
  {
   "cell_type": "markdown",
   "metadata": {},
   "source": [
    "# ANN Model"
   ]
  },
  {
   "cell_type": "code",
   "execution_count": 12,
   "metadata": {},
   "outputs": [
    {
     "name": "stdout",
     "output_type": "stream",
     "text": [
      "WARNING:tensorflow:From C:\\ProgramData\\Anaconda3\\envs\\chatbot_36\\lib\\site-packages\\tflearn\\layers\\core.py:81: The name tf.placeholder is deprecated. Please use tf.compat.v1.placeholder instead.\n",
      "\n",
      "WARNING:tensorflow:From C:\\ProgramData\\Anaconda3\\envs\\chatbot_36\\lib\\site-packages\\tflearn\\initializations.py:174: calling TruncatedNormal.__init__ (from tensorflow.python.ops.init_ops) with dtype is deprecated and will be removed in a future version.\n",
      "Instructions for updating:\n",
      "Call initializer instance with the dtype argument instead of passing it to the constructor\n",
      "WARNING:tensorflow:From C:\\ProgramData\\Anaconda3\\envs\\chatbot_36\\lib\\site-packages\\tflearn\\optimizers.py:238: The name tf.train.AdamOptimizer is deprecated. Please use tf.compat.v1.train.AdamOptimizer instead.\n",
      "\n",
      "WARNING:tensorflow:From C:\\ProgramData\\Anaconda3\\envs\\chatbot_36\\lib\\site-packages\\tflearn\\objectives.py:66: calling reduce_sum_v1 (from tensorflow.python.ops.math_ops) with keep_dims is deprecated and will be removed in a future version.\n",
      "Instructions for updating:\n",
      "keep_dims is deprecated, use keepdims instead\n",
      "WARNING:tensorflow:From C:\\ProgramData\\Anaconda3\\envs\\chatbot_36\\lib\\site-packages\\tflearn\\summaries.py:46: The name tf.summary.scalar is deprecated. Please use tf.compat.v1.summary.scalar instead.\n",
      "\n",
      "WARNING:tensorflow:From C:\\ProgramData\\Anaconda3\\envs\\chatbot_36\\lib\\site-packages\\tensorflow\\python\\ops\\math_grad.py:1250: add_dispatch_support.<locals>.wrapper (from tensorflow.python.ops.array_ops) is deprecated and will be removed in a future version.\n",
      "Instructions for updating:\n",
      "Use tf.where in 2.0, which has the same broadcast rule as np.where\n",
      "WARNING:tensorflow:From C:\\ProgramData\\Anaconda3\\envs\\chatbot_36\\lib\\site-packages\\tflearn\\helpers\\trainer.py:134: The name tf.train.Saver is deprecated. Please use tf.compat.v1.train.Saver instead.\n",
      "\n"
     ]
    }
   ],
   "source": [
    "tensorflow.reset_default_graph()\n",
    "\n",
    "net = tflearn.input_data(shape=[None, len(training[0])])\n",
    "net = tflearn.fully_connected(net, 8)\n",
    "net = tflearn.fully_connected(net, 8)\n",
    "net = tflearn.fully_connected(net, len(output[0]), activation=\"softmax\")\n",
    "net = tflearn.regression(net)\n",
    "\n",
    "model = tflearn.DNN(net)"
   ]
  },
  {
   "cell_type": "code",
   "execution_count": 13,
   "metadata": {},
   "outputs": [
    {
     "name": "stdout",
     "output_type": "stream",
     "text": [
      "Training Step: 9999  | total loss: \u001b[1m\u001b[32m0.06660\u001b[0m\u001b[0m | time: 0.034s\n",
      "| Adam | epoch: 1000 | loss: 0.06660 - acc: 0.9965 -- iter: 72/78\n",
      "Training Step: 10000  | total loss: \u001b[1m\u001b[32m0.06048\u001b[0m\u001b[0m | time: 0.039s\n",
      "| Adam | epoch: 1000 | loss: 0.06048 - acc: 0.9969 -- iter: 78/78\n",
      "--\n"
     ]
    }
   ],
   "source": [
    "ANN=model.fit(training, output, n_epoch=1000, batch_size=8, show_metric=True)\n",
    "    "
   ]
  },
  {
   "cell_type": "markdown",
   "metadata": {},
   "source": [
    "# Saving The Model"
   ]
  },
  {
   "cell_type": "code",
   "execution_count": 30,
   "metadata": {},
   "outputs": [
    {
     "name": "stdout",
     "output_type": "stream",
     "text": [
      "INFO:tensorflow:C:\\Users\\SHIKHON\\Chatbot\\Thesis\\model.tflearn is not in all_model_checkpoint_paths. Manually adding it.\n"
     ]
    }
   ],
   "source": [
    "model.save(\"model.tflearn\")"
   ]
  },
  {
   "cell_type": "markdown",
   "metadata": {},
   "source": [
    "# Data Preprocessing of User Input"
   ]
  },
  {
   "cell_type": "code",
   "execution_count": 8,
   "metadata": {},
   "outputs": [],
   "source": [
    "def bag_of_words(s, words):\n",
    "    bag = [0 for _ in range(len(words))]\n",
    "\n",
    "    s_words = nltk.word_tokenize(s)\n",
    "    s_words = [stemmer.stem(word.lower()) for word in s_words]\n",
    "\n",
    "    for se in s_words:\n",
    "        for i, w in enumerate(words):\n",
    "            if w == se:\n",
    "                bag[i] = 1\n",
    "    test = numpy.array(bag)    \n",
    "    \n",
    "    return test"
   ]
  },
  {
   "cell_type": "code",
   "execution_count": 9,
   "metadata": {},
   "outputs": [],
   "source": [
    "def chat():\n",
    "    print(\"Start talking with the bot (type quit to stop)!\")\n",
    "    while True:\n",
    "        inp = input(\"You: \")\n",
    "        if inp.lower() == \"quit\":\n",
    "            break\n",
    "\n",
    "        results = model.predict([bag_of_words(inp, words)])[0]\n",
    "        results_index = numpy.argmax(results)\n",
    "        tag = labels[results_index]\n",
    "\n",
    "        if results[results_index] > 0.5:\n",
    "\n",
    "            for tg in data[\"intents\"]:\n",
    "\n",
    "                if tg['tag'] == tag:\n",
    "                    responses = tg['responses']\n",
    "\n",
    "            \n",
    "            result = random.choice(responses)\n",
    "            print(result)\n",
    "        else:\n",
    "            \n",
    "            print(\"i didn't get it. Ask another question\")"
   ]
  },
  {
   "cell_type": "markdown",
   "metadata": {},
   "source": [
    "# Chat"
   ]
  },
  {
   "cell_type": "code",
   "execution_count": null,
   "metadata": {},
   "outputs": [
    {
     "name": "stdout",
     "output_type": "stream",
     "text": [
      "Start talking with the bot (type quit to stop)!\n",
      "You: name of the department\n",
      "Computer Science & Engineering\n",
      "You: class duration\n",
      "i didn't get it. Ask another question\n",
      "You: what is the class duration\n",
      "In general classes start at 8:00 hours and end at 14:40 hours. But mostly class duration depends on the routine. There may be class or lab after 14:40 hours which is quite rare.\n",
      "You: Is hall seat available\n",
      "Mist has Osmany Hall which is divided into two part : male wing and female wing. Besides if the student number exceeds the number of seat in Osmany hall, Mist authority manages extension hall in Mirpur DOHS. So hall seat is always available but sometimes it can take some time to get a seat.\n",
      "You: hall expenses\n",
      "i didn't get it. Ask another question\n",
      "You: monthly fee of the hall expenses\n",
      "Students have to pay Tk.2700 per month for hall fee. Dining bill is separated and students have to pay for their meal if they sign for meal.\n",
      "You: food quality in canteen\n",
      "Mist authority always cares about the quality of food in both canteen and hall.\n",
      "You: food quality\n",
      "i didn't get it. Ask another question\n",
      "You: এমআইএসটির কতটি বিভাগ রয়েছে\n",
      "এমআইএসটি-তে মোট ১৩ টি বিভাগ রয়েছে।\n",
      "You: বেসরকারী না সরকারী?\n",
      "মিলিটারি ইনস্টিটিউট অফ সায়েন্স অ্যান্ড টেকনোলজি (এমআইএসটি) বাংলাদেশের মিরপুর সেনানিবাসের একটি পাবলিক ইঞ্জিনিয়ারিং প্রতিষ্ঠান \n",
      "You: clubs in mst\n",
      "MIST has a total of 12 clubs.\n",
      "You: commandant of MIST\n",
      "Students have to wear uniform from sunday to wednesday. They can wear civil dresses on thursday.\n",
      "You: present commandant of MIST\n",
      "The current commandant is Major General Wahid-uz-Zaman.\n"
     ]
    }
   ],
   "source": [
    "chat()"
   ]
  },
  {
   "cell_type": "code",
   "execution_count": 10,
   "metadata": {},
   "outputs": [
    {
     "name": "stdout",
     "output_type": "stream",
     "text": [
      "Start talking with the bot (type quit to stop)!\n",
      "You: food quality  in canteen\n",
      "Mist authority always cares about the quality of food in both canteen and hall.\n",
      "You: quit\n"
     ]
    }
   ],
   "source": [
    "chat()"
   ]
  },
  {
   "cell_type": "code",
   "execution_count": null,
   "metadata": {},
   "outputs": [],
   "source": []
  }
 ],
 "metadata": {
  "kernelspec": {
   "display_name": "Python 3",
   "language": "python",
   "name": "python3"
  },
  "language_info": {
   "codemirror_mode": {
    "name": "ipython",
    "version": 3
   },
   "file_extension": ".py",
   "mimetype": "text/x-python",
   "name": "python",
   "nbconvert_exporter": "python",
   "pygments_lexer": "ipython3",
   "version": "3.6.10"
  }
 },
 "nbformat": 4,
 "nbformat_minor": 4
}
